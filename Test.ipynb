{
 "cells": [
  {
   "cell_type": "code",
   "execution_count": 23,
   "metadata": {},
   "outputs": [],
   "source": [
    "import pandas as pd\n",
    "import numpy as np"
   ]
  },
  {
   "cell_type": "code",
   "execution_count": 24,
   "metadata": {},
   "outputs": [],
   "source": [
    "class MatchRating:\n",
    "    original_rating_name = \"Original\"\n",
    "\n",
    "    def __init__(self, player_file, match_file):\n",
    "        self.players = pd.read_csv(player_file)\n",
    "        self.players.set_index('ShortName', inplace=True)\n",
    "\n",
    "        self.matches = pd.read_csv(match_file)\n",
    "\n",
    "        self.__player_ratings = pd.DataFrame(columns=[\"Rating\"], index=self.players.index)\n",
    "        self.__player_ratings[\"Rating\"] = np.random.normal(0, 1, self.__player_ratings.shape[0])\n",
    "        self.__player_ratings\n",
    "\n",
    "    def calculate_ratings(self, max_iterations):\n",
    "\n",
    "        total_match_weights  = self.matches[\"K\"].sum()\n",
    "\n",
    "        for i in range(max_iterations):\n",
    "            rating_table = self.__create_rating_table()\n",
    "            \n",
    "            match_score_accuracy = self.__calculate_match_score_accuracy(rating_table)        \n",
    "            \n",
    "            player_rating_accuracy = pow(match_score_accuracy.prod(), 1 / total_match_weights)\n",
    "            accuracy_product = player_rating_accuracy.sort_values(ascending=False)\n",
    "\n",
    "            best_accuracy = accuracy_product.index[0]\n",
    "            print(f\"Iteration {i + 1} with accuracy: {accuracy_product.iloc[0]}\")\n",
    "\n",
    "            if best_accuracy == MatchRating.original_rating_name:\n",
    "                return self.__player_ratings.sort_values(by=\"Rating\", ascending=False)\n",
    "            \n",
    "            player, rating_change = best_accuracy            \n",
    "            self.__player_ratings.loc[player] += rating_change\n",
    "            \n",
    "        return self.__player_ratings.sort_values(by=\"Rating\", ascending=False)\n",
    "\n",
    "    def __calculate_match_score_accuracy(self, rating_table):\n",
    "        match_score_accuracy = pd.DataFrame(columns=rating_table.columns, index=self.matches.index)\n",
    "\n",
    "        for index, match in self.matches.iterrows():\n",
    "            winner = match[\"Winner\"]\n",
    "            looser = match[\"Looser\"]\n",
    "\n",
    "            for column in rating_table.columns:\n",
    "                winner_rating = rating_table.loc[winner][column]\n",
    "                looser_rating = rating_table.loc[looser][column]\n",
    "\n",
    "                accuracy = pow(winner_rating / (winner_rating + looser_rating), match[\"K\"])\n",
    "\n",
    "                match_score_accuracy.loc[index][column] = accuracy\n",
    "\n",
    "        return match_score_accuracy\n",
    "\n",
    "    def __create_rating_table(self):\n",
    "        ratings = []\n",
    "        columns = []\n",
    "\n",
    "        original_rating = self.__player_ratings[\"Rating\"]\n",
    "\n",
    "        def add_rating(rating, name):\n",
    "            ratings.append(rating.apply(lambda x: pow(10, (x / 40))))\n",
    "            columns.append(name)\n",
    "\n",
    "        def add_alternative_rating(player, rating_change):\n",
    "            alternative_rating = original_rating.copy()\n",
    "            alternative_rating.loc[player] += rating_change\n",
    "                \n",
    "            add_rating(alternative_rating, (player, rating_change))\n",
    "\n",
    "        add_rating(original_rating, MatchRating.original_rating_name)\n",
    "\n",
    "        for player in self.players.index:\n",
    "            add_alternative_rating(player, 1)\n",
    "            add_alternative_rating(player, -1)\n",
    "            \n",
    "        rating_table = pd.concat(ratings, axis=1)\n",
    "        rating_table.columns = columns\n",
    "        return rating_table"
   ]
  },
  {
   "cell_type": "code",
   "execution_count": 27,
   "metadata": {},
   "outputs": [
    {
     "ename": "KeyboardInterrupt",
     "evalue": "",
     "output_type": "error",
     "traceback": [
      "\u001b[1;31m---------------------------------------------------------------------------\u001b[0m",
      "\u001b[1;31mKeyboardInterrupt\u001b[0m                         Traceback (most recent call last)",
      "Cell \u001b[1;32mIn[27], line 2\u001b[0m\n\u001b[0;32m      1\u001b[0m rating_system \u001b[38;5;241m=\u001b[39m MatchRating(\u001b[38;5;124m'\u001b[39m\u001b[38;5;124mData/Players2.csv\u001b[39m\u001b[38;5;124m'\u001b[39m, \u001b[38;5;124m'\u001b[39m\u001b[38;5;124mData/Matches2.csv\u001b[39m\u001b[38;5;124m'\u001b[39m)\n\u001b[1;32m----> 2\u001b[0m \u001b[43mrating_system\u001b[49m\u001b[38;5;241;43m.\u001b[39;49m\u001b[43mcalculate_ratings\u001b[49m\u001b[43m(\u001b[49m\u001b[38;5;241;43m1000\u001b[39;49m\u001b[43m)\u001b[49m\n",
      "Cell \u001b[1;32mIn[24], line 21\u001b[0m, in \u001b[0;36mMatchRating.calculate_ratings\u001b[1;34m(self, max_iterations)\u001b[0m\n\u001b[0;32m     18\u001b[0m \u001b[38;5;28;01mfor\u001b[39;00m i \u001b[38;5;129;01min\u001b[39;00m \u001b[38;5;28mrange\u001b[39m(max_iterations):\n\u001b[0;32m     19\u001b[0m     rating_table \u001b[38;5;241m=\u001b[39m \u001b[38;5;28mself\u001b[39m\u001b[38;5;241m.\u001b[39m__create_rating_table()\n\u001b[1;32m---> 21\u001b[0m     match_score_accuracy \u001b[38;5;241m=\u001b[39m \u001b[38;5;28;43mself\u001b[39;49m\u001b[38;5;241;43m.\u001b[39;49m\u001b[43m__calculate_match_score_accuracy\u001b[49m\u001b[43m(\u001b[49m\u001b[43mrating_table\u001b[49m\u001b[43m)\u001b[49m        \n\u001b[0;32m     23\u001b[0m     player_rating_accuracy \u001b[38;5;241m=\u001b[39m \u001b[38;5;28mpow\u001b[39m(match_score_accuracy\u001b[38;5;241m.\u001b[39mprod(), \u001b[38;5;241m1\u001b[39m \u001b[38;5;241m/\u001b[39m total_match_weights)\n\u001b[0;32m     24\u001b[0m     accuracy_product \u001b[38;5;241m=\u001b[39m player_rating_accuracy\u001b[38;5;241m.\u001b[39msort_values(ascending\u001b[38;5;241m=\u001b[39m\u001b[38;5;28;01mFalse\u001b[39;00m)\n",
      "Cell \u001b[1;32mIn[24], line 51\u001b[0m, in \u001b[0;36mMatchRating.__calculate_match_score_accuracy\u001b[1;34m(self, rating_table)\u001b[0m\n\u001b[0;32m     47\u001b[0m         looser_rating \u001b[38;5;241m=\u001b[39m rating_table\u001b[38;5;241m.\u001b[39mloc[looser][column]\n\u001b[0;32m     49\u001b[0m         accuracy \u001b[38;5;241m=\u001b[39m \u001b[38;5;28mpow\u001b[39m(winner_rating \u001b[38;5;241m/\u001b[39m (winner_rating \u001b[38;5;241m+\u001b[39m looser_rating), match[\u001b[38;5;124m\"\u001b[39m\u001b[38;5;124mK\u001b[39m\u001b[38;5;124m\"\u001b[39m])\n\u001b[1;32m---> 51\u001b[0m         \u001b[43mmatch_score_accuracy\u001b[49m\u001b[38;5;241;43m.\u001b[39;49m\u001b[43mloc\u001b[49m\u001b[43m[\u001b[49m\u001b[43mindex\u001b[49m\u001b[43m]\u001b[49m[column] \u001b[38;5;241m=\u001b[39m accuracy\n\u001b[0;32m     53\u001b[0m \u001b[38;5;28;01mreturn\u001b[39;00m match_score_accuracy\n",
      "File \u001b[1;32md:\\Development\\uch-ranking\\venv\\Lib\\site-packages\\pandas\\core\\indexing.py:1153\u001b[0m, in \u001b[0;36m_LocationIndexer.__getitem__\u001b[1;34m(self, key)\u001b[0m\n\u001b[0;32m   1150\u001b[0m axis \u001b[38;5;241m=\u001b[39m \u001b[38;5;28mself\u001b[39m\u001b[38;5;241m.\u001b[39maxis \u001b[38;5;129;01mor\u001b[39;00m \u001b[38;5;241m0\u001b[39m\n\u001b[0;32m   1152\u001b[0m maybe_callable \u001b[38;5;241m=\u001b[39m com\u001b[38;5;241m.\u001b[39mapply_if_callable(key, \u001b[38;5;28mself\u001b[39m\u001b[38;5;241m.\u001b[39mobj)\n\u001b[1;32m-> 1153\u001b[0m \u001b[38;5;28;01mreturn\u001b[39;00m \u001b[38;5;28;43mself\u001b[39;49m\u001b[38;5;241;43m.\u001b[39;49m\u001b[43m_getitem_axis\u001b[49m\u001b[43m(\u001b[49m\u001b[43mmaybe_callable\u001b[49m\u001b[43m,\u001b[49m\u001b[43m \u001b[49m\u001b[43maxis\u001b[49m\u001b[38;5;241;43m=\u001b[39;49m\u001b[43maxis\u001b[49m\u001b[43m)\u001b[49m\n",
      "File \u001b[1;32md:\\Development\\uch-ranking\\venv\\Lib\\site-packages\\pandas\\core\\indexing.py:1393\u001b[0m, in \u001b[0;36m_LocIndexer._getitem_axis\u001b[1;34m(self, key, axis)\u001b[0m\n\u001b[0;32m   1391\u001b[0m \u001b[38;5;66;03m# fall thru to straight lookup\u001b[39;00m\n\u001b[0;32m   1392\u001b[0m \u001b[38;5;28mself\u001b[39m\u001b[38;5;241m.\u001b[39m_validate_key(key, axis)\n\u001b[1;32m-> 1393\u001b[0m \u001b[38;5;28;01mreturn\u001b[39;00m \u001b[38;5;28;43mself\u001b[39;49m\u001b[38;5;241;43m.\u001b[39;49m\u001b[43m_get_label\u001b[49m\u001b[43m(\u001b[49m\u001b[43mkey\u001b[49m\u001b[43m,\u001b[49m\u001b[43m \u001b[49m\u001b[43maxis\u001b[49m\u001b[38;5;241;43m=\u001b[39;49m\u001b[43maxis\u001b[49m\u001b[43m)\u001b[49m\n",
      "File \u001b[1;32md:\\Development\\uch-ranking\\venv\\Lib\\site-packages\\pandas\\core\\indexing.py:1343\u001b[0m, in \u001b[0;36m_LocIndexer._get_label\u001b[1;34m(self, label, axis)\u001b[0m\n\u001b[0;32m   1341\u001b[0m \u001b[38;5;28;01mdef\u001b[39;00m \u001b[38;5;21m_get_label\u001b[39m(\u001b[38;5;28mself\u001b[39m, label, axis: AxisInt):\n\u001b[0;32m   1342\u001b[0m     \u001b[38;5;66;03m# GH#5567 this will fail if the label is not present in the axis.\u001b[39;00m\n\u001b[1;32m-> 1343\u001b[0m     \u001b[38;5;28;01mreturn\u001b[39;00m \u001b[38;5;28;43mself\u001b[39;49m\u001b[38;5;241;43m.\u001b[39;49m\u001b[43mobj\u001b[49m\u001b[38;5;241;43m.\u001b[39;49m\u001b[43mxs\u001b[49m\u001b[43m(\u001b[49m\u001b[43mlabel\u001b[49m\u001b[43m,\u001b[49m\u001b[43m \u001b[49m\u001b[43maxis\u001b[49m\u001b[38;5;241;43m=\u001b[39;49m\u001b[43maxis\u001b[49m\u001b[43m)\u001b[49m\n",
      "File \u001b[1;32md:\\Development\\uch-ranking\\venv\\Lib\\site-packages\\pandas\\core\\generic.py:4256\u001b[0m, in \u001b[0;36mNDFrame.xs\u001b[1;34m(self, key, axis, level, drop_level)\u001b[0m\n\u001b[0;32m   4250\u001b[0m \u001b[38;5;28;01mif\u001b[39;00m \u001b[38;5;28mself\u001b[39m\u001b[38;5;241m.\u001b[39mndim \u001b[38;5;241m==\u001b[39m \u001b[38;5;241m1\u001b[39m:\n\u001b[0;32m   4251\u001b[0m     \u001b[38;5;66;03m# if we encounter an array-like and we only have 1 dim\u001b[39;00m\n\u001b[0;32m   4252\u001b[0m     \u001b[38;5;66;03m# that means that their are list/ndarrays inside the Series!\u001b[39;00m\n\u001b[0;32m   4253\u001b[0m     \u001b[38;5;66;03m# so just return them (GH 6394)\u001b[39;00m\n\u001b[0;32m   4254\u001b[0m     \u001b[38;5;28;01mreturn\u001b[39;00m \u001b[38;5;28mself\u001b[39m\u001b[38;5;241m.\u001b[39m_values[loc]\n\u001b[1;32m-> 4256\u001b[0m new_mgr \u001b[38;5;241m=\u001b[39m \u001b[38;5;28;43mself\u001b[39;49m\u001b[38;5;241;43m.\u001b[39;49m\u001b[43m_mgr\u001b[49m\u001b[38;5;241;43m.\u001b[39;49m\u001b[43mfast_xs\u001b[49m\u001b[43m(\u001b[49m\u001b[43mloc\u001b[49m\u001b[43m)\u001b[49m\n\u001b[0;32m   4258\u001b[0m result \u001b[38;5;241m=\u001b[39m \u001b[38;5;28mself\u001b[39m\u001b[38;5;241m.\u001b[39m_constructor_sliced_from_mgr(new_mgr, axes\u001b[38;5;241m=\u001b[39mnew_mgr\u001b[38;5;241m.\u001b[39maxes)\n\u001b[0;32m   4259\u001b[0m result\u001b[38;5;241m.\u001b[39m_name \u001b[38;5;241m=\u001b[39m \u001b[38;5;28mself\u001b[39m\u001b[38;5;241m.\u001b[39mindex[loc]\n",
      "File \u001b[1;32md:\\Development\\uch-ranking\\venv\\Lib\\site-packages\\pandas\\core\\internals\\managers.py:959\u001b[0m, in \u001b[0;36mBlockManager.fast_xs\u001b[1;34m(self, loc)\u001b[0m\n\u001b[0;32m    957\u001b[0m     \u001b[38;5;66;03m# in the case of a single block, the new block is a view\u001b[39;00m\n\u001b[0;32m    958\u001b[0m     bp \u001b[38;5;241m=\u001b[39m BlockPlacement(\u001b[38;5;28mslice\u001b[39m(\u001b[38;5;241m0\u001b[39m, \u001b[38;5;28mlen\u001b[39m(result)))\n\u001b[1;32m--> 959\u001b[0m     block \u001b[38;5;241m=\u001b[39m \u001b[43mnew_block\u001b[49m\u001b[43m(\u001b[49m\n\u001b[0;32m    960\u001b[0m \u001b[43m        \u001b[49m\u001b[43mresult\u001b[49m\u001b[43m,\u001b[49m\n\u001b[0;32m    961\u001b[0m \u001b[43m        \u001b[49m\u001b[43mplacement\u001b[49m\u001b[38;5;241;43m=\u001b[39;49m\u001b[43mbp\u001b[49m\u001b[43m,\u001b[49m\n\u001b[0;32m    962\u001b[0m \u001b[43m        \u001b[49m\u001b[43mndim\u001b[49m\u001b[38;5;241;43m=\u001b[39;49m\u001b[38;5;241;43m1\u001b[39;49m\u001b[43m,\u001b[49m\n\u001b[0;32m    963\u001b[0m \u001b[43m        \u001b[49m\u001b[43mrefs\u001b[49m\u001b[38;5;241;43m=\u001b[39;49m\u001b[38;5;28;43mself\u001b[39;49m\u001b[38;5;241;43m.\u001b[39;49m\u001b[43mblocks\u001b[49m\u001b[43m[\u001b[49m\u001b[38;5;241;43m0\u001b[39;49m\u001b[43m]\u001b[49m\u001b[38;5;241;43m.\u001b[39;49m\u001b[43mrefs\u001b[49m\u001b[43m,\u001b[49m\n\u001b[0;32m    964\u001b[0m \u001b[43m    \u001b[49m\u001b[43m)\u001b[49m\n\u001b[0;32m    965\u001b[0m     \u001b[38;5;28;01mreturn\u001b[39;00m SingleBlockManager(block, \u001b[38;5;28mself\u001b[39m\u001b[38;5;241m.\u001b[39maxes[\u001b[38;5;241m0\u001b[39m])\n\u001b[0;32m    967\u001b[0m dtype \u001b[38;5;241m=\u001b[39m interleaved_dtype([blk\u001b[38;5;241m.\u001b[39mdtype \u001b[38;5;28;01mfor\u001b[39;00m blk \u001b[38;5;129;01min\u001b[39;00m \u001b[38;5;28mself\u001b[39m\u001b[38;5;241m.\u001b[39mblocks])\n",
      "File \u001b[1;32md:\\Development\\uch-ranking\\venv\\Lib\\site-packages\\pandas\\core\\internals\\blocks.py:2400\u001b[0m, in \u001b[0;36mnew_block\u001b[1;34m(values, placement, ndim, refs)\u001b[0m\n\u001b[0;32m   2388\u001b[0m \u001b[38;5;28;01mdef\u001b[39;00m \u001b[38;5;21mnew_block\u001b[39m(\n\u001b[0;32m   2389\u001b[0m     values,\n\u001b[0;32m   2390\u001b[0m     placement: BlockPlacement,\n\u001b[1;32m   (...)\u001b[0m\n\u001b[0;32m   2397\u001b[0m     \u001b[38;5;66;03m# - check_ndim/ensure_block_shape already checked\u001b[39;00m\n\u001b[0;32m   2398\u001b[0m     \u001b[38;5;66;03m# - maybe_coerce_values already called/unnecessary\u001b[39;00m\n\u001b[0;32m   2399\u001b[0m     klass \u001b[38;5;241m=\u001b[39m get_block_type(values\u001b[38;5;241m.\u001b[39mdtype)\n\u001b[1;32m-> 2400\u001b[0m     \u001b[38;5;28;01mreturn\u001b[39;00m \u001b[43mklass\u001b[49m\u001b[43m(\u001b[49m\u001b[43mvalues\u001b[49m\u001b[43m,\u001b[49m\u001b[43m \u001b[49m\u001b[43mndim\u001b[49m\u001b[38;5;241;43m=\u001b[39;49m\u001b[43mndim\u001b[49m\u001b[43m,\u001b[49m\u001b[43m \u001b[49m\u001b[43mplacement\u001b[49m\u001b[38;5;241;43m=\u001b[39;49m\u001b[43mplacement\u001b[49m\u001b[43m,\u001b[49m\u001b[43m \u001b[49m\u001b[43mrefs\u001b[49m\u001b[38;5;241;43m=\u001b[39;49m\u001b[43mrefs\u001b[49m\u001b[43m)\u001b[49m\n",
      "\u001b[1;31mKeyboardInterrupt\u001b[0m: "
     ]
    }
   ],
   "source": [
    "rating_system = MatchRating('Data/Players2.csv', 'Data/Matches2.csv')\n",
    "rating_system.calculate_ratings(1000)"
   ]
  }
 ],
 "metadata": {
  "kernelspec": {
   "display_name": "venv",
   "language": "python",
   "name": "python3"
  },
  "language_info": {
   "codemirror_mode": {
    "name": "ipython",
    "version": 3
   },
   "file_extension": ".py",
   "mimetype": "text/x-python",
   "name": "python",
   "nbconvert_exporter": "python",
   "pygments_lexer": "ipython3",
   "version": "3.11.6"
  }
 },
 "nbformat": 4,
 "nbformat_minor": 2
}
